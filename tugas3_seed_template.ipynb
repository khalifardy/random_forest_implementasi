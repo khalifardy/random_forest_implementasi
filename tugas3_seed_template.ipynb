{
 "cells": [
  {
   "cell_type": "code",
   "execution_count": null,
   "metadata": {},
   "outputs": [],
   "source": [
    "!pip install pandas\n",
    "!pip install scikit-learn"
   ]
  },
  {
   "cell_type": "code",
   "execution_count": 2,
   "metadata": {},
   "outputs": [],
   "source": [
    "import numpy as np\n",
    "import pandas as pd\n",
    "from sklearn.model_selection import train_test_split\n",
    "from sklearn import tree\n"
   ]
  },
  {
   "cell_type": "markdown",
   "metadata": {},
   "source": [
    "# Load Dataset\n",
    "Inisialisasi variable, masukan NIM di sini untuk random state.\n",
    "\n",
    "Random state digunakan untuk training & validation split."
   ]
  },
  {
   "cell_type": "code",
   "execution_count": 3,
   "metadata": {},
   "outputs": [],
   "source": [
    "filepath = \"./seeds_dataset.txt\"\n",
    "\n",
    "# Isi nim anda di sini\n",
    "nim = ... "
   ]
  },
  {
   "cell_type": "markdown",
   "metadata": {},
   "source": [
    "Load dataset, cek konten data\n",
    "\n",
    "Target kelas: **Category** "
   ]
  },
  {
   "cell_type": "code",
   "execution_count": null,
   "metadata": {},
   "outputs": [],
   "source": [
    "df = pd.read_csv(filepath, sep=\"\\t\")\n",
    "df.sample(10, random_state=nim)"
   ]
  },
  {
   "cell_type": "markdown",
   "metadata": {},
   "source": [
    "Training/test split **60/40**"
   ]
  },
  {
   "cell_type": "code",
   "execution_count": 5,
   "metadata": {},
   "outputs": [
    {
     "data": {
      "text/plain": [
       "(126, 84)"
      ]
     },
     "execution_count": 5,
     "metadata": {},
     "output_type": "execute_result"
    }
   ],
   "source": [
    "# X: semua kolom, Y: kolom terakhir (category)\n",
    "x = df.iloc[:, 0:-1]\n",
    "y = df.iloc[:, -1]\n",
    "x_train, x_test, y_train, y_test = train_test_split(x, y, train_size=0.6, random_state=nim)\n",
    "\n",
    "len(x_train), len(x_test)\n",
    "\n",
    "# We perform bootstrap on the train data\n",
    "# Keep test data for final accuracy testing"
   ]
  },
  {
   "cell_type": "markdown",
   "metadata": {},
   "source": [
    "# Random Forest\n",
    "Build 20 Decision Tree classifer, dengan tahapan:\n",
    "\n",
    "1. Siapkan Bootstrap data (pilih secara acak dari training data, sampling with replacement)\n",
    "2. Pilih 2-4 random features secara acak\n",
    "3. Build Decision Tree classifier menggunakan (1) dan (2)\n",
    "4. Calculate OOB error within the tree only\n",
    "\n",
    "**NOTE**\n",
    "This whole exercise has been simplified.\n",
    "- Tree is created automatically, therefore you cannot control the feature selection on node level\n",
    "- Random features are only selected in the beginning of each tree, instead of at every node \n",
    "split\n",
    "- OOB error is only calculated within its own tree instead of on the whole forest\n",
    "- Typically Random Forest don't use train/test split and can be validated using OOB error. We simplify this to make it easier to test.\n"
   ]
  },
  {
   "cell_type": "code",
   "execution_count": null,
   "metadata": {},
   "outputs": [],
   "source": [
    "np.random.seed(nim)\n",
    "n_tree = 20\n",
    "\n",
    "forest = []\n",
    "bootstrap_columns = []\n",
    "for i in range(n_tree):\n",
    "    # 1. Bootstrapping\n",
    "    # select random rows\n",
    "    rows = ...\n",
    "    x_bootstrap = ...\n",
    "    y_bootstrap = ...\n",
    "\n",
    "    # Out of Bag data\n",
    "    non_selected_rows = ...\n",
    "    x_oob = ...\n",
    "    y_oob = ...\n",
    "\n",
    "    # 2. Select random features (make sure to keep track the selected columns)\n",
    "    # Check for any repeated combinations\n",
    "    feature_taken = np.random.randint(2, 4)\n",
    "    cols = ...\n",
    "    bootstrap_columns.append(cols)\n",
    "\n",
    "    # filter based on the selected columns\n",
    "    x_bootstrap = ...\n",
    "\n",
    "    # 3. Build decision tree\n",
    "    # Let it grow, no pruning, no max depth\n",
    "    tree_model = tree.DecisionTreeClassifier(criterion=\"entropy\")\n",
    "    tree_model = tree_model.fit(x_bootstrap, y_bootstrap)\n",
    "\n",
    "    # Add it to the forest\n",
    "    forest.append(tree_model)\n",
    "\n",
    "    # 4. Calculate oob error only within its own tree\n",
    "    # ....\n",
    "\n"
   ]
  },
  {
   "cell_type": "markdown",
   "metadata": {},
   "source": [
    "# Prediction and Voting\n",
    "Run prediction on x_test data for each tree\n",
    "\n",
    "Also calculate accuracy per tree here"
   ]
  },
  {
   "cell_type": "code",
   "execution_count": 7,
   "metadata": {},
   "outputs": [],
   "source": [
    "all_preds = []\n",
    "for i, tree_model in enumerate(forest):\n",
    "    # Each tree has different column requirements\n",
    "    # Make sure you use the correct columns for each tree\n",
    "    x_test_filtered = ...\n",
    "\n",
    "    predictions = tree_model.predict(x_test_filtered)\n",
    "\n",
    "    # Might as well calculate accuracy per tree here...\n",
    "\n",
    "    acc = ...\n",
    "\n",
    "    # add it to all_preds for voting later\n",
    "    all_preds.append(predictions)\n",
    "\n",
    "all_preds = np.array(all_preds)"
   ]
  },
  {
   "cell_type": "markdown",
   "metadata": {},
   "source": [
    "### Perform voting on the predictions from the Random Forest"
   ]
  },
  {
   "cell_type": "code",
   "execution_count": null,
   "metadata": {},
   "outputs": [],
   "source": [
    "# Insert voting code here\n",
    "# ...\n",
    "# ...\n",
    "#  \n",
    "voted_predictions = ...\n",
    "\n",
    "# Calculate accuracy of Test data on the Forest\n",
    "correct = voted_predictions == y_test\n",
    "acc = np.sum(correct) / len(predictions)\n",
    "acc\n",
    "\n"
   ]
  },
  {
   "cell_type": "markdown",
   "metadata": {},
   "source": []
  }
 ],
 "metadata": {
  "kernelspec": {
   "display_name": "Python 3 (ipykernel)",
   "language": "python",
   "name": "python3"
  },
  "language_info": {
   "codemirror_mode": {
    "name": "ipython",
    "version": 3
   },
   "file_extension": ".py",
   "mimetype": "text/x-python",
   "name": "python",
   "nbconvert_exporter": "python",
   "pygments_lexer": "ipython3",
   "version": "3.11.4"
  },
  "vscode": {
   "interpreter": {
    "hash": "486ee4d26de12a9ebc4c044e4309648e10037d9316726c9d112e2ad4a1fad8b4"
   }
  }
 },
 "nbformat": 4,
 "nbformat_minor": 2
}
