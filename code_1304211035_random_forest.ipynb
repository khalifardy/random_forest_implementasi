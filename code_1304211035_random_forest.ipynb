{
 "cells": [
  {
   "cell_type": "code",
   "execution_count": 18,
   "metadata": {},
   "outputs": [],
   "source": [
    "from sklearn.model_selection import train_test_split\n",
    "import  numpy as np\n",
    "import pandas as pd\n",
    "from INDOML.model.Ensemble import RandomForest #library yang di build sendiri\n",
    "from INDOML.model.supervised import DecisionTree #library yang di build sendiri\n",
    "from sklearn import tree\n"
   ]
  },
  {
   "cell_type": "code",
   "execution_count": 19,
   "metadata": {},
   "outputs": [],
   "source": [
    "df = pd.read_csv('seeds_dataset.csv',delimiter='\\t')"
   ]
  },
  {
   "cell_type": "code",
   "execution_count": 20,
   "metadata": {},
   "outputs": [
    {
     "data": {
      "text/html": [
       "<div>\n",
       "<style scoped>\n",
       "    .dataframe tbody tr th:only-of-type {\n",
       "        vertical-align: middle;\n",
       "    }\n",
       "\n",
       "    .dataframe tbody tr th {\n",
       "        vertical-align: top;\n",
       "    }\n",
       "\n",
       "    .dataframe thead th {\n",
       "        text-align: right;\n",
       "    }\n",
       "</style>\n",
       "<table border=\"1\" class=\"dataframe\">\n",
       "  <thead>\n",
       "    <tr style=\"text-align: right;\">\n",
       "      <th></th>\n",
       "      <th>Area</th>\n",
       "      <th>Perimeter</th>\n",
       "      <th>Compactness</th>\n",
       "      <th>Kernel_len</th>\n",
       "      <th>Kernel_width</th>\n",
       "      <th>Assymetry</th>\n",
       "      <th>Groove_len</th>\n",
       "      <th>Category</th>\n",
       "    </tr>\n",
       "  </thead>\n",
       "  <tbody>\n",
       "    <tr>\n",
       "      <th>0</th>\n",
       "      <td>15.26</td>\n",
       "      <td>14.84</td>\n",
       "      <td>0.8710</td>\n",
       "      <td>5.763</td>\n",
       "      <td>3.312</td>\n",
       "      <td>2.221</td>\n",
       "      <td>5.220</td>\n",
       "      <td>1</td>\n",
       "    </tr>\n",
       "    <tr>\n",
       "      <th>1</th>\n",
       "      <td>14.88</td>\n",
       "      <td>14.57</td>\n",
       "      <td>0.8811</td>\n",
       "      <td>5.554</td>\n",
       "      <td>3.333</td>\n",
       "      <td>1.018</td>\n",
       "      <td>4.956</td>\n",
       "      <td>1</td>\n",
       "    </tr>\n",
       "    <tr>\n",
       "      <th>2</th>\n",
       "      <td>14.29</td>\n",
       "      <td>14.09</td>\n",
       "      <td>0.9050</td>\n",
       "      <td>5.291</td>\n",
       "      <td>3.337</td>\n",
       "      <td>2.699</td>\n",
       "      <td>4.825</td>\n",
       "      <td>1</td>\n",
       "    </tr>\n",
       "    <tr>\n",
       "      <th>3</th>\n",
       "      <td>13.84</td>\n",
       "      <td>13.94</td>\n",
       "      <td>0.8955</td>\n",
       "      <td>5.324</td>\n",
       "      <td>3.379</td>\n",
       "      <td>2.259</td>\n",
       "      <td>4.805</td>\n",
       "      <td>1</td>\n",
       "    </tr>\n",
       "    <tr>\n",
       "      <th>4</th>\n",
       "      <td>16.14</td>\n",
       "      <td>14.99</td>\n",
       "      <td>0.9034</td>\n",
       "      <td>5.658</td>\n",
       "      <td>3.562</td>\n",
       "      <td>1.355</td>\n",
       "      <td>5.175</td>\n",
       "      <td>1</td>\n",
       "    </tr>\n",
       "    <tr>\n",
       "      <th>...</th>\n",
       "      <td>...</td>\n",
       "      <td>...</td>\n",
       "      <td>...</td>\n",
       "      <td>...</td>\n",
       "      <td>...</td>\n",
       "      <td>...</td>\n",
       "      <td>...</td>\n",
       "      <td>...</td>\n",
       "    </tr>\n",
       "    <tr>\n",
       "      <th>205</th>\n",
       "      <td>12.19</td>\n",
       "      <td>13.20</td>\n",
       "      <td>0.8783</td>\n",
       "      <td>5.137</td>\n",
       "      <td>2.981</td>\n",
       "      <td>3.631</td>\n",
       "      <td>4.870</td>\n",
       "      <td>3</td>\n",
       "    </tr>\n",
       "    <tr>\n",
       "      <th>206</th>\n",
       "      <td>11.23</td>\n",
       "      <td>12.88</td>\n",
       "      <td>0.8511</td>\n",
       "      <td>5.140</td>\n",
       "      <td>2.795</td>\n",
       "      <td>4.325</td>\n",
       "      <td>5.003</td>\n",
       "      <td>3</td>\n",
       "    </tr>\n",
       "    <tr>\n",
       "      <th>207</th>\n",
       "      <td>13.20</td>\n",
       "      <td>13.66</td>\n",
       "      <td>0.8883</td>\n",
       "      <td>5.236</td>\n",
       "      <td>3.232</td>\n",
       "      <td>8.315</td>\n",
       "      <td>5.056</td>\n",
       "      <td>3</td>\n",
       "    </tr>\n",
       "    <tr>\n",
       "      <th>208</th>\n",
       "      <td>11.84</td>\n",
       "      <td>13.21</td>\n",
       "      <td>0.8521</td>\n",
       "      <td>5.175</td>\n",
       "      <td>2.836</td>\n",
       "      <td>3.598</td>\n",
       "      <td>5.044</td>\n",
       "      <td>3</td>\n",
       "    </tr>\n",
       "    <tr>\n",
       "      <th>209</th>\n",
       "      <td>12.30</td>\n",
       "      <td>13.34</td>\n",
       "      <td>0.8684</td>\n",
       "      <td>5.243</td>\n",
       "      <td>2.974</td>\n",
       "      <td>5.637</td>\n",
       "      <td>5.063</td>\n",
       "      <td>3</td>\n",
       "    </tr>\n",
       "  </tbody>\n",
       "</table>\n",
       "<p>210 rows × 8 columns</p>\n",
       "</div>"
      ],
      "text/plain": [
       "      Area  Perimeter  Compactness  Kernel_len  Kernel_width  Assymetry  \\\n",
       "0    15.26      14.84       0.8710       5.763         3.312      2.221   \n",
       "1    14.88      14.57       0.8811       5.554         3.333      1.018   \n",
       "2    14.29      14.09       0.9050       5.291         3.337      2.699   \n",
       "3    13.84      13.94       0.8955       5.324         3.379      2.259   \n",
       "4    16.14      14.99       0.9034       5.658         3.562      1.355   \n",
       "..     ...        ...          ...         ...           ...        ...   \n",
       "205  12.19      13.20       0.8783       5.137         2.981      3.631   \n",
       "206  11.23      12.88       0.8511       5.140         2.795      4.325   \n",
       "207  13.20      13.66       0.8883       5.236         3.232      8.315   \n",
       "208  11.84      13.21       0.8521       5.175         2.836      3.598   \n",
       "209  12.30      13.34       0.8684       5.243         2.974      5.637   \n",
       "\n",
       "     Groove_len  Category  \n",
       "0         5.220         1  \n",
       "1         4.956         1  \n",
       "2         4.825         1  \n",
       "3         4.805         1  \n",
       "4         5.175         1  \n",
       "..          ...       ...  \n",
       "205       4.870         3  \n",
       "206       5.003         3  \n",
       "207       5.056         3  \n",
       "208       5.044         3  \n",
       "209       5.063         3  \n",
       "\n",
       "[210 rows x 8 columns]"
      ]
     },
     "execution_count": 20,
     "metadata": {},
     "output_type": "execute_result"
    }
   ],
   "source": [
    "df"
   ]
  },
  {
   "cell_type": "code",
   "execution_count": 21,
   "metadata": {},
   "outputs": [
    {
     "data": {
      "text/plain": [
       "['Area',\n",
       " 'Perimeter',\n",
       " 'Compactness',\n",
       " 'Kernel_len',\n",
       " 'Kernel_width',\n",
       " 'Assymetry',\n",
       " 'Groove_len']"
      ]
     },
     "execution_count": 21,
     "metadata": {},
     "output_type": "execute_result"
    }
   ],
   "source": [
    "X = df.iloc[:,:-1]\n",
    "y = df.iloc[:,-1]\n",
    "nama_kolom = list(df.columns[:-1])\n",
    "nama_kolom"
   ]
  },
  {
   "cell_type": "code",
   "execution_count": 22,
   "metadata": {},
   "outputs": [],
   "source": [
    "x_train, x_test, y_train, y_test = train_test_split(X, y, train_size=0.6, random_state=1304211035)"
   ]
  },
  {
   "cell_type": "code",
   "execution_count": 23,
   "metadata": {},
   "outputs": [],
   "source": [
    "x_train = x_train.to_numpy()\n",
    "y_train = y_train.to_numpy()\n",
    "x_test = x_test.to_numpy()\n",
    "y_test = y_test.to_numpy()"
   ]
  },
  {
   "cell_type": "code",
   "execution_count": 24,
   "metadata": {},
   "outputs": [],
   "source": [
    "dt = DecisionTree(len(x_train)+1)"
   ]
  },
  {
   "cell_type": "code",
   "execution_count": 25,
   "metadata": {},
   "outputs": [],
   "source": [
    "dt.fit(x_train,y_train)"
   ]
  },
  {
   "cell_type": "code",
   "execution_count": 26,
   "metadata": {},
   "outputs": [],
   "source": [
    "prediksi = dt.predict(x_test)"
   ]
  },
  {
   "cell_type": "code",
   "execution_count": 27,
   "metadata": {},
   "outputs": [
    {
     "data": {
      "text/plain": [
       "array([3, 1, 1, 3, 2, 1, 3, 3, 1, 1, 3, 2, 2, 1, 2, 2, 1, 3, 3, 2, 2, 3,\n",
       "       2, 3, 3, 1, 3, 1, 2, 3, 1, 1, 1, 1, 1, 3, 1, 2, 3, 3, 3, 3, 3, 3,\n",
       "       3, 3, 2, 3, 1, 2, 3, 1, 1, 3, 3, 3, 1, 2, 3, 2, 3, 1, 2, 1, 2, 1,\n",
       "       1, 2, 3, 3, 2, 2, 3, 3, 1, 1, 1, 2, 1, 1, 2, 3, 3, 2])"
      ]
     },
     "execution_count": 27,
     "metadata": {},
     "output_type": "execute_result"
    }
   ],
   "source": [
    "prediksi"
   ]
  },
  {
   "cell_type": "code",
   "execution_count": 28,
   "metadata": {},
   "outputs": [
    {
     "data": {
      "text/plain": [
       "0.9047619047619048"
      ]
     },
     "execution_count": 28,
     "metadata": {},
     "output_type": "execute_result"
    }
   ],
   "source": [
    "dt.score_accuracy(prediksi,y_test)"
   ]
  },
  {
   "cell_type": "markdown",
   "metadata": {},
   "source": [
    "#RANDOM FOREST <br>\n",
    "Random forest yang dibangun akan merandom fitur pada setiap node"
   ]
  },
  {
   "cell_type": "code",
   "execution_count": 29,
   "metadata": {},
   "outputs": [],
   "source": [
    "rf = RandomForest(max_depth=len(X)+1,min_fitur=2,max_feature=4,random_state=1304211035,n_tree=20)"
   ]
  },
  {
   "cell_type": "code",
   "execution_count": 30,
   "metadata": {},
   "outputs": [
    {
     "name": "stdout",
     "output_type": "stream",
     "text": [
      "model-1 akurasi : 0.9682539682539683 dan OOB error : 0.031746031746031744 , kolom root : Groove_len\n",
      "model-2 akurasi : 0.9682539682539683 dan OOB error : 0.031746031746031744 , kolom root : Groove_len\n"
     ]
    },
    {
     "name": "stdout",
     "output_type": "stream",
     "text": [
      "model-3 akurasi : 0.9285714285714286 dan OOB error : 0.0714285714285714 , kolom root : Area\n",
      "model-4 akurasi : 0.9523809523809523 dan OOB error : 0.04761904761904767 , kolom root : Groove_len\n",
      "model-5 akurasi : 0.9444444444444444 dan OOB error : 0.05555555555555558 , kolom root : Area\n",
      "model-6 akurasi : 0.9682539682539683 dan OOB error : 0.031746031746031744 , kolom root : Groove_len\n",
      "model-7 akurasi : 0.9841269841269841 dan OOB error : 0.015873015873015928 , kolom root : Groove_len\n",
      "model-8 akurasi : 0.9682539682539683 dan OOB error : 0.031746031746031744 , kolom root : Perimeter\n",
      "model-9 akurasi : 0.9761904761904762 dan OOB error : 0.023809523809523836 , kolom root : Groove_len\n",
      "model-10 akurasi : 0.9285714285714286 dan OOB error : 0.0714285714285714 , kolom root : Area\n",
      "model-11 akurasi : 0.9365079365079365 dan OOB error : 0.06349206349206349 , kolom root : Groove_len\n",
      "model-12 akurasi : 0.9603174603174603 dan OOB error : 0.03968253968253965 , kolom root : Area\n",
      "model-13 akurasi : 0.9206349206349206 dan OOB error : 0.07936507936507942 , kolom root : Area\n",
      "model-14 akurasi : 0.8888888888888888 dan OOB error : 0.11111111111111116 , kolom root : Perimeter\n",
      "model-15 akurasi : 0.9444444444444444 dan OOB error : 0.05555555555555558 , kolom root : Groove_len\n",
      "model-16 akurasi : 0.9523809523809523 dan OOB error : 0.04761904761904767 , kolom root : Groove_len\n",
      "model-17 akurasi : 0.9444444444444444 dan OOB error : 0.05555555555555558 , kolom root : Perimeter\n",
      "model-18 akurasi : 0.9603174603174603 dan OOB error : 0.03968253968253965 , kolom root : Kernel_width\n",
      "model-19 akurasi : 0.9126984126984127 dan OOB error : 0.08730158730158732 , kolom root : Area\n",
      "model-20 akurasi : 0.9603174603174603 dan OOB error : 0.03968253968253965 , kolom root : Groove_len\n"
     ]
    }
   ],
   "source": [
    "rf.fit(x_train,y_train,nama_kolom)"
   ]
  },
  {
   "cell_type": "code",
   "execution_count": 31,
   "metadata": {},
   "outputs": [],
   "source": [
    "prediksi = rf.predict(x_test)"
   ]
  },
  {
   "cell_type": "code",
   "execution_count": 32,
   "metadata": {},
   "outputs": [
    {
     "data": {
      "text/plain": [
       "array([3, 3, 3, 1, 2, 1, 1, 3, 1, 1, 1, 2, 2, 2, 2, 2, 1, 3, 3, 2, 2, 3,\n",
       "       2, 1, 3, 1, 3, 1, 2, 3, 1, 1, 1, 3, 1, 3, 1, 2, 3, 3, 1, 3, 3, 1,\n",
       "       3, 3, 2, 3, 1, 2, 1, 1, 1, 1, 3, 3, 1, 2, 3, 2, 3, 1, 2, 1, 2, 1,\n",
       "       1, 2, 3, 3, 2, 2, 3, 3, 1, 1, 1, 2, 1, 1, 2, 3, 3, 2])"
      ]
     },
     "execution_count": 32,
     "metadata": {},
     "output_type": "execute_result"
    }
   ],
   "source": [
    "prediksi"
   ]
  },
  {
   "cell_type": "code",
   "execution_count": 33,
   "metadata": {},
   "outputs": [
    {
     "data": {
      "text/plain": [
       "0.8571428571428571"
      ]
     },
     "execution_count": 33,
     "metadata": {},
     "output_type": "execute_result"
    }
   ],
   "source": [
    "#akurasi\n",
    "rf.score_accuracy(prediksi,y_test)"
   ]
  },
  {
   "cell_type": "markdown",
   "metadata": {},
   "source": [
    "LIBRARY INDOML github url : https://github.com/khalifardy/library_machine_learning <br> \n",
    "Decision tree path : INDOML/INDOML/model/supervised.py #class DecisionTree <br>\n",
    "RandomForest path : INDOML/INDOML/model/Ensemble.py #class RandomForest <br>\n",
    "google collab url : https://colab.research.google.com/drive/1PfvjHbE3H2Ure3VyzT8YFcC3CJnGa5MP?usp=sharing"
   ]
  }
 ],
 "metadata": {
  "kernelspec": {
   "display_name": ".env",
   "language": "python",
   "name": "python3"
  },
  "language_info": {
   "codemirror_mode": {
    "name": "ipython",
    "version": 3
   },
   "file_extension": ".py",
   "mimetype": "text/x-python",
   "name": "python",
   "nbconvert_exporter": "python",
   "pygments_lexer": "ipython3",
   "version": "3.12.0"
  }
 },
 "nbformat": 4,
 "nbformat_minor": 2
}
